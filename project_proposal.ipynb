{
 "cells": [
  {
   "cell_type": "markdown",
   "metadata": {},
   "source": [
    "# CPSC322 Final Project\n",
    "### Project Proposal\n",
    "Anna Cardinal and Claire Yegian"
   ]
  },
  {
   "cell_type": "markdown",
   "metadata": {},
   "source": [
    "### Dataset\n",
    "\n",
    "Source: [Kaggle](https://www.kaggle.com/datasets/maharshipandya/-spotify-tracks-dataset) <br>\n",
    "Format: csv <br>\n",
    "Instances: 114k instances <br> \n",
    "<br>\n",
    "Attributes: 21 \n",
    "* track_id\n",
    "* artists\n",
    "    * If there are multiple artists, they are seperated by a semi-colon\n",
    "* album_name\n",
    "* track_name\n",
    "* popularity \n",
    "    * Value between 0 and 100\n",
    "    * Based on total number of plays and how recent those plays are\n",
    "* duration_ms\n",
    "* explicit\n",
    "    * boolean\n",
    "* dancability\n",
    "    * \"How suitable a track is for dancing\"\n",
    "    * based on temp, rythm stability, beat strength, and overall regularity\n",
    "    * between 0.0 and 1.0\n",
    "* energy\n",
    "    * \"Measure of intensity and activity\"\n",
    "    * 0.0 to 1.0\n",
    "* key\n",
    "    * key the track is in\n",
    "* loudness\n",
    "    * in decibels\n",
    "* mode\n",
    "    * indicates modality\n",
    "    * major 1, minor 0\n",
    "* speechiness\n",
    "    * presence of spoken words\n",
    "    * 0.0 to 1.0 (one being most speechy)\n",
    "* acousticness\n",
    "    * 0.0 to 1.0 (one being most acoustic)\n",
    "* instramentalness\n",
    "    * 0.0 to 1.0 (one being most instramental)\n",
    "* liveness\n",
    "    * how likely that the track is live\n",
    "    * 0.0 to 1.0 (one being most likely to be live)\n",
    "* valence\n",
    "    * measure of how cheerful song is\n",
    "    * 0.0 to 1.0 (one being most cheerfule)\n",
    "* tempo\n",
    "    * beats per minute\n",
    "* time_signature\n",
    "    * beats per measure\n",
    "* track_genre\n",
    "\n",
    "(popularity will be used as class information after discretization)"
   ]
  },
  {
   "cell_type": "markdown",
   "metadata": {},
   "source": [
    "### Implementation / Technical Merit\n",
    "\n",
    "Anticipated Challenges\n",
    "* We may need to find a way to remove podcasts and other non-music instances\n",
    "* We will need to deal with duplicate instances\n",
    "* Popularity is heavily skewed towards 0\n",
    "    * this may effect classification"
   ]
  },
  {
   "cell_type": "markdown",
   "metadata": {},
   "source": [
    "### Potential Impact of the Results\n",
    "These results are useful in uncovering and exploring recent music trends. <br>\n",
    "<br>\n",
    "Stakeholders Include: \n",
    "* Spotify \n",
    "    * what should they get more of?\n",
    "* Aspiring Artists \n",
    "    * what should they make?\n",
    "* People producing or distributing music\n",
    "    * what should they endorse / play?"
   ]
  }
 ],
 "metadata": {
  "kernelspec": {
   "display_name": "Python 3.9.2 64-bit",
   "language": "python",
   "name": "python3"
  },
  "language_info": {
   "name": "python",
   "version": "3.9.2"
  },
  "orig_nbformat": 4,
  "vscode": {
   "interpreter": {
    "hash": "31f2aee4e71d21fbe5cf8b01ff0e069b9275f58929596ceb00d14d90e3e16cd6"
   }
  }
 },
 "nbformat": 4,
 "nbformat_minor": 2
}
