{
 "cells": [
  {
   "cell_type": "code",
   "execution_count": 1,
   "metadata": {},
   "outputs": [],
   "source": [
    "import importlib\n",
    "import random\n",
    "\n",
    "import mysklearn.myutils as myutils\n",
    "import mysklearn.plotutils as plotutils\n",
    "import mysklearn.mypytable\n",
    "importlib.reload(mysklearn.mypytable)\n",
    "from mysklearn.mypytable import MyPyTable \n",
    "\n",
    "import mysklearn.myclassifiers as myclassifiers\n",
    "from mysklearn.myclassifiers import MyKNeighborsClassifier, MyNaiveBayesClassifier\n",
    "\n",
    "import mysklearn.myevaluation as myevaluation"
   ]
  },
  {
   "cell_type": "code",
   "execution_count": null,
   "metadata": {},
   "outputs": [],
   "source": [
    "spotify_table = MyPyTable()\n",
    "spotify_table.load_from_file(\"./input_data/spotify_tracks.csv\")\n",
    "print(\"Number of instances:\", len(spotify_table.data))\n",
    "\n",
    "rows_to_remove = []\n",
    "genre_row = spotify_table.get_column(\"track_genre\")\n",
    "genres = myutils.get_unique_values(genre_row)\n",
    "print(genres)\n",
    "for i in range(len(spotify_table.data)):\n",
    "    if spotify_table.data[i][spotify_table.column_names.index(\"speechiness\")] >= 0.85 and spotify_table.data[i][-1] in [\"kids\", \"children\", \"comedy\"]:\n",
    "        rows_to_remove.append(i)\n",
    "spotify_table.drop_rows(rows_to_remove)\n",
    "print(\"number of instances with stories removed:\", len(spotify_table.data))"
   ]
  },
  {
   "cell_type": "code",
   "execution_count": null,
   "metadata": {},
   "outputs": [],
   "source": [
    "rows_to_remove = []\n",
    "track_ids = []\n",
    "for i in range(len(spotify_table.data)):\n",
    "    if spotify_table.data[i][1] not in track_ids:\n",
    "        track_ids.append(spotify_table.data[i][1])\n",
    "    else:\n",
    "        rows_to_remove.append(i)\n",
    "spotify_table.drop_rows(rows_to_remove)\n",
    "print(\"Number of instances with duplicates removed:\", len(spotify_table.data))"
   ]
  },
  {
   "cell_type": "code",
   "execution_count": null,
   "metadata": {},
   "outputs": [],
   "source": [
    "popularity_index_list = []\n",
    "popularity_column = spotify_table.get_column(\"popularity\")\n",
    "for i in range(len(popularity_column)):\n",
    "    popularity_index_list.append([popularity_column[i], i])\n",
    "popularity_index_list = sorted(popularity_index_list)\n",
    "\n",
    "rows_to_remove = [instance[1] for instance in popularity_index_list]\n",
    "rows_to_remove = rows_to_remove[:(len(popularity_index_list) - 10000)]\n",
    "spotify_table.drop_rows(rows_to_remove)\n",
    "print(\"Final number of instances:\", len(spotify_table.data))\n",
    "print(spotify_table.data[:10])"
   ]
  },
  {
   "cell_type": "code",
   "execution_count": 2,
   "metadata": {},
   "outputs": [
    {
     "data": {
      "text/plain": [
       "<mysklearn.mypytable.MyPyTable at 0x7f4be43e4970>"
      ]
     },
     "execution_count": 2,
     "metadata": {},
     "output_type": "execute_result"
    }
   ],
   "source": [
    "spotify_table = MyPyTable()\n",
    "spotify_table.load_from_file(\"./input_data/cleaned_spotify_tracks.csv\")"
   ]
  },
  {
   "cell_type": "markdown",
   "metadata": {},
   "source": [
    "Once we narrowed our data down to the 10,000 most ppular songs, we looked at the ways it needed to be cleaned before classification. Track_genre was the only column that seemed to need cleaning, so we tried a few ways to clean track_genre to make it useable for the classifiers. There were so many unique values and some had so many more instances than others that it was difficult to find a logical way to regroup them while maintaining a reasonable distribution. Ultimately, we decided that track_genre probably wouldn't even be a good enough predictor for it to be worth the effort it would take to properly clean the data.\n",
    "\n",
    "We ran our knn classifier on our 10,000 instance dataset, and it took about 30 minutes to come up with a model. Because it took so long with so many instances, we decided to cut our data down to only 1,000 instances using random sampling. We then got rid of the index column and the track id column because they no longer added any information to our data."
   ]
  },
  {
   "cell_type": "code",
   "execution_count": 3,
   "metadata": {},
   "outputs": [
    {
     "name": "stdout",
     "output_type": "stream",
     "text": [
      "['artists', 'album_name', 'track_name', 'popularity', 'duration_ms', 'explicit', 'danceability', 'energy', 'key', 'loudness', 'mode', 'speechiness', 'acousticness', 'instrumentalness', 'liveness', 'valence', 'tempo', 'time_signature', 'track_genre'] [['Aimer', 'daydream', 'カタオモイ', 67.0, 207360.0, 'False', 0.621, 0.533, 1.0, -5.974, 1.0, 0.0342, 0.78, 0.0, 0.333, 0.791, 96.981, 4.0, 'anime'], ['Shawn Mendes', 'Handwritten', 'Stitches', 80.0, 206880.0, 'False', 0.746, 0.754, 1.0, -6.684, 1.0, 0.0676, 0.0152, 0.0, 0.0486, 0.746, 149.882, 4.0, 'dance'], ['M-22', 'Need You There', 'Need You There', 63.0, 185991.0, 'False', 0.651, 0.76, 0.0, -5.949, 1.0, 0.0446, 0.0273, 0.000538, 0.315, 0.137, 122.969, 4.0, 'deep-house'], ['Jeff Bernat', 'She Loves Me Not', 'Still', 65.0, 226926.0, 'False', 0.485, 0.315, 4.0, -11.599, 1.0, 0.0946, 0.581, 0.000349, 0.11, 0.425, 134.714, 4.0, 'chill'], ['Casting Crowns;Matthew West', 'Only Jesus', 'Nobody (feat. Matthew West)', 67.0, 206400.0, 'False', 0.561, 0.717, 8.0, -5.72, 1.0, 0.0381, 0.458, 0.0, 0.138, 0.455, 79.993, 4.0, 'alt-rock'], ['brb.', 'move', 'move', 62.0, 148571.0, 'False', 0.661, 0.633, 5.0, -8.819, 0.0, 0.052, 0.0227, 9.86e-05, 0.104, 0.782, 104.934, 4.0, 'chill'], ['Alessia Cara', 'I Choose (From The Netflix Original Film The Willoughbys)', 'I Choose - From The Netflix Original Film \"The Willoughbys\"', 66.0, 217347.0, 'False', 0.66, 0.631, 0.0, -6.464, 1.0, 0.0764, 0.386, 0.0, 0.16, 0.416, 138.007, 3.0, 'electro'], ['Aerosmith', 'Just Push Play', 'Fly Away From Here', 63.0, 301760.0, 'False', 0.387, 0.686, 4.0, -5.368, 1.0, 0.0363, 0.142, 0.0, 0.122, 0.171, 142.091, 4.0, 'hard-rock'], ['Ben Howard', 'Every Kingdom', 'Keep Your Head Up', 67.0, 264546.0, 'False', 0.508, 0.596, 4.0, -9.034, 0.0, 0.0334, 0.439, 9.84e-06, 0.111, 0.4, 79.359, 4.0, 'british'], ['Kaka', 'Libaas', 'Libaas', 65.0, 267029.0, 'False', 0.794, 0.753, 10.0, -3.112, 1.0, 0.0609, 0.543, 0.0, 0.12, 0.906, 159.965, 4.0, 'pop']]\n"
     ]
    }
   ],
   "source": [
    "spotify_table.data = random.sample(spotify_table.data, k=1000)\n",
    "\n",
    "for i in range(len(spotify_table.data)):\n",
    "    spotify_table.data[i] = spotify_table.data[i][2:]\n",
    "spotify_table.column_names = spotify_table.column_names[2:]\n",
    "print(spotify_table.column_names, spotify_table.data[:10])"
   ]
  },
  {
   "cell_type": "markdown",
   "metadata": {},
   "source": [
    "After removing those columns, we tried a few ways to clean track_genre to make it useable for the classifiers. There were so many unique values and some had so many more instances than others that it was difficult to find a logical way to regroup them while maintaining a reasonable distribution. Ultimately, we decided that track_genre probably wouldn't even be a good enough predictor for it to be worth the effort it would take to properly clean the data."
   ]
  },
  {
   "cell_type": "code",
   "execution_count": 4,
   "metadata": {},
   "outputs": [],
   "source": [
    "spotify_table.data = random.sample(spotify_table.data, k=1000)"
   ]
  },
  {
   "cell_type": "code",
   "execution_count": 5,
   "metadata": {},
   "outputs": [],
   "source": [
    "spotify_table.save_to_file(\"input_data/sampled_cleaned_spotify_tracks.csv\")"
   ]
  },
  {
   "cell_type": "markdown",
   "metadata": {},
   "source": [
    "df = pd.dataframe(spotify_table.data)\n",
    "df[\"col\"] = dr[\"col\"].astype(int)\n",
    "\n",
    "#clean all with fewer than 5 of each classification\n",
    "get rid of id row, track id?\n",
    "most popular genres, and all less popular grouped into \"other\""
   ]
  }
 ],
 "metadata": {
  "kernelspec": {
   "display_name": "Python 3.9.12 ('base')",
   "language": "python",
   "name": "python3"
  },
  "language_info": {
   "codemirror_mode": {
    "name": "ipython",
    "version": 3
   },
   "file_extension": ".py",
   "mimetype": "text/x-python",
   "name": "python",
   "nbconvert_exporter": "python",
   "pygments_lexer": "ipython3",
   "version": "3.9.12"
  },
  "orig_nbformat": 4,
  "vscode": {
   "interpreter": {
    "hash": "d4d1e4263499bec80672ea0156c357c1ee493ec2b1c70f0acce89fc37c4a6abe"
   }
  }
 },
 "nbformat": 4,
 "nbformat_minor": 2
}
