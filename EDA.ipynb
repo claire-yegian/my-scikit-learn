{
 "cells": [
  {
   "cell_type": "code",
   "execution_count": 28,
   "metadata": {},
   "outputs": [],
   "source": [
    "import importlib\n",
    "\n",
    "import mysklearn.mypytable\n",
    "importlib.reload(mysklearn.mypytable)\n",
    "from mysklearn.mypytable import MyPyTable "
   ]
  },
  {
   "cell_type": "code",
   "execution_count": 29,
   "metadata": {},
   "outputs": [
    {
     "name": "stdout",
     "output_type": "stream",
     "text": [
      "5075\n"
     ]
    }
   ],
   "source": [
    "ev_table = MyPyTable()\n",
    "ev_table.load_from_file(\"./input_data/Electric_Vehicles_By_County.csv\")\n",
    "\n",
    "rows_to_remove = []\n",
    "for i in range(len(ev_table.data)):\n",
    "    if ev_table.data[i][0][-4:] not in ['2019', '2020', '2021']:\n",
    "        rows_to_remove.append(i)\n",
    "    elif ev_table.data[i][-2] < 100:\n",
    "        rows_to_remove.append(i)\n",
    "ev_table.drop_rows(rows_to_remove)\n",
    "print(len(ev_table.data))"
   ]
  },
  {
   "cell_type": "code",
   "execution_count": 30,
   "metadata": {},
   "outputs": [
    {
     "name": "stdout",
     "output_type": "stream",
     "text": [
      "[['Autauga', '42,846', '45,248', '48,347', 11.0, 5.6, 6.8, 60.0, '', 'AL'], ['Baldwin', '48,380', '51,348', '54,659', 4.0, 6.1, 6.4, 63.0, '', 'AL'], ['Barbour', '34,870', '37,120', '40,428', 54.0, 6.5, 8.9, 33.0, '', 'AL'], ['Bibb', '31,800', '34,598', '36,892', 66.0, 8.8, 6.6, 62.0, '', 'AL'], ['Blount', '36,542', '38,351', '42,634', 39.0, 5.0, 11.2, 10.0, '', 'AL'], ['Bullock', '27,192', '30,429', '33,267', 67.0, 11.9, 9.3, 27.0, '', 'AL'], ['Butler', '39,254', '41,151', '46,050', 20.0, 4.8, 11.9, 7.0, '', 'AL'], ['Calhoun', '36,869', '39,546', '42,621', 40.0, 7.3, 7.8, 48.0, '', 'AL'], ['Chambers', '33,682', '36,299', '39,728', 58.0, 7.8, 9.4, 26.0, '', 'AL'], ['Cherokee', '37,751', '39,416', '43,719', 32.0, 4.4, 10.9, 11.0, '', 'AL'], ['Chilton', '36,195', '38,551', '41,748', 44.0, 6.5, 8.3, 40.0, '', 'AL'], ['Choctaw', '38,651', '41,413', '44,241', 29.0, 7.1, 6.8, 61.0, '', 'AL'], ['Clarke', '37,426', '41,862', '45,232', 23.0, 11.9, 8.1, 43.0, '', 'AL'], ['Clay', '32,059', '34,660', '38,705', 62.0, 8.1, 11.7, 8.0, '', 'AL'], ['Cleburne', '35,819', '37,670', '42,836', 38.0, 5.2, 13.7, 3.0, '', 'AL'], ['Coffee', '43,164', '45,466', '49,196', 9.0, 5.3, 8.2, 42.0, '', 'AL'], ['Colbert', '37,912', '41,088', '44,279', 28.0, 8.4, 7.8, 49.0, '', 'AL'], ['Conecuh', '34,183', '37,887', '41,656', 47.0, 10.8, 9.9, 17.0, '', 'AL'], ['Coosa', '33,311', '35,542', '38,275', 64.0, 6.7, 7.7, 51.0, '', 'AL'], ['Covington', '35,472', '37,777', '41,458', 49.0, 6.5, 9.7, 23.0, '', 'AL'], ['Crenshaw', '37,965', '39,921', '46,038', 21.0, 5.2, 15.3, 1.0, '', 'AL'], ['Cullman', '40,047', '41,925', '46,061', 19.0, 4.7, 9.9, 18.0, '', 'AL'], ['Dale', '37,574', '40,032', '43,916', 31.0, 6.5, 9.7, 24.0, '', 'AL'], ['Dallas', '35,069', '38,762', '41,850', 42.0, 10.5, 8.0, 45.0, '', 'AL'], ['DeKalb', '33,015', '34,999', '40,026', 57.0, 6.0, 14.4, 2.0, '', 'AL']]\n"
     ]
    }
   ],
   "source": [
    "income_table = MyPyTable()\n",
    "income_table.load_from_file(\"./input_data/Income_By_County.csv\")\n",
    "\n",
    "state_abbrev_dict = {\"Alabama\" : \"AL\", \"Kentucky\" : \"KY\", \"Ohio\" : \"OH\", \"Alaska\" : \"AK\",\n",
    "    \"Louisiana\" : \"LA\", \"Oklahoma\" : \"OK\", \"Arizona\" : \"AZ\", \"Maine\" : \"ME\", \"Oregon\" : \"OR\",\n",
    "    \"Arkansas\" : \"AR\", \"Maryland\" : \"MD\", \"Pennsylvania\" : \"PA\", \"Massachusetts\" : \"MA\",\n",
    "    \"California\" : \"CA\", \"Michigan\" : \"MI\", \"Rhode Island\" : \"RI\", \"Colorado\" : \"CO\",\n",
    "    \"Minnesota\" : \"MN\", \"South Carolina\" : \"SC\", \"Connecticut\" : \"CT\", \"Mississippi\" : \"MS\",\n",
    "    \"South Dakota\" : \"SD\", \"Delaware\" : \"DE\", \"Missouri\" : \"MO\", \"Tennessee\" : \"TN\",\n",
    "    \"District of Columbia\" : \"DC\", \"Montana\" : \"MT\", \"Texas\" : \"TX\", \"Florida\" : \"FL\",\n",
    "    \"Nebraska\" : \"NE\", \"Georgia\" : \"GA\", \"Nevada\" : \"NV\", \"Utah\" : \"UT\", \"New Hampshire\" : \"NH\",\n",
    "    \"Vermont\" : \"VT\", \"Hawaii\" : \"HI\", \"New Jersey\" : \"NJ\", \"Virginia\" : \"VA\", \"Idaho\" : \"ID\",\n",
    "    \"New Mexico\" : \"NM\", \"Illinois\" : \"IL\", \"New York\" : \"NY\", \"Washington\" : \"WA\",\n",
    "    \"Indiana\" : \"IN\", \"North Carolina\" : \"NC\", \"West Virginia\" : \"WV\", \"Iowa\" : \"IA\",\n",
    "    \"North Dakota\" : \"ND\", \"Wisconsin\" : \"WI\", \"Kansas\" : \"KS\", \"Wyoming\" : \"WY\"}\n",
    "\n",
    "new_col = []\n",
    "rows_to_remove2 = []\n",
    "current_state = None\n",
    "for i in range(len(income_table.data)):\n",
    "    if income_table.data[i][0] == \"separator\":\n",
    "        rows_to_remove2.append(i)\n",
    "    elif income_table.data[i - 1][0] == \"separator\":\n",
    "        current_state = state_abbrev_dict[income_table.data[i][0]]\n",
    "        rows_to_remove2.append(i)\n",
    "    else:\n",
    "        new_col.append(current_state)\n",
    "\n",
    "income_table.drop_rows(rows_to_remove2)\n",
    "income_table.add_column(\"State\", new_col)\n",
    "print(income_table.data[:25])"
   ]
  },
  {
   "cell_type": "code",
   "execution_count": 31,
   "metadata": {},
   "outputs": [],
   "source": [
    "joined_table = ev_table.perform_inner_join(income_table, [\"County\", \"State\"])"
   ]
  },
  {
   "cell_type": "code",
   "execution_count": 32,
   "metadata": {},
   "outputs": [
    {
     "name": "stdout",
     "output_type": "stream",
     "text": [
      "['Date', 'County', 'State', 'Vehicle Primary Use', 'Battery Electric Vehicles (BEVs)', 'Plug-In Hybrid Electric Vehicles (PHEVs)', 'Electric Vehicle (EV) Total', 'Non-Electric Vehicle Total', 'Total Vehicles', 'Percent Electric Vehicles']\n",
      "['County', ' Dollars 2019', ' Dollars 2020', ' Dollars 2021', ' Dollars Rank in state', ' Percent change 2020', ' Percent change 2021', ' Percent change Rank in state', 'State']\n",
      "County\n",
      "State\n",
      "[]\n",
      "0\n"
     ]
    }
   ],
   "source": [
    "print(ev_table.column_names)\n",
    "print(income_table.column_names)\n",
    "for i in range(len(ev_table.column_names)):\n",
    "    if ev_table.column_names[i] in income_table.column_names:\n",
    "        print(ev_table.column_names[i])\n",
    "print(joined_table.data[:25])\n",
    "print(len(joined_table.data))"
   ]
  }
 ],
 "metadata": {
  "kernelspec": {
   "display_name": "Python 3.10.2 64-bit",
   "language": "python",
   "name": "python3"
  },
  "language_info": {
   "codemirror_mode": {
    "name": "ipython",
    "version": 3
   },
   "file_extension": ".py",
   "mimetype": "text/x-python",
   "name": "python",
   "nbconvert_exporter": "python",
   "pygments_lexer": "ipython3",
   "version": "3.10.2"
  },
  "orig_nbformat": 4,
  "vscode": {
   "interpreter": {
    "hash": "9cf7b6150e84dc13695358e90255561dc680435413e3427d58b7fc177d1f672c"
   }
  }
 },
 "nbformat": 4,
 "nbformat_minor": 2
}
