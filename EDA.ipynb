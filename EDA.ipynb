{
 "cells": [
  {
   "cell_type": "code",
   "execution_count": 43,
   "metadata": {},
   "outputs": [],
   "source": [
    "import importlib\n",
    "\n",
    "import mysklearn.myutils as myutils\n",
    "import mysklearn.plotutils as plotutils\n",
    "import mysklearn.mypytable\n",
    "importlib.reload(mysklearn.mypytable)\n",
    "from mysklearn.mypytable import MyPyTable "
   ]
  },
  {
   "cell_type": "code",
   "execution_count": 44,
   "metadata": {},
   "outputs": [
    {
     "name": "stdout",
     "output_type": "stream",
     "text": [
      "Number of instances: 114000\n",
      "['acoustic', 'afrobeat', 'alt-rock', 'alternative', 'ambient', 'anime', 'black-metal', 'bluegrass', 'blues', 'brazil', 'breakbeat', 'british', 'cantopop', 'chicago-house', 'children', 'chill', 'classical', 'club', 'comedy', 'country', 'dance', 'dancehall', 'death-metal', 'deep-house', 'detroit-techno', 'disco', 'disney', 'drum-and-bass', 'dub', 'dubstep', 'edm', 'electro', 'electronic', 'emo', 'folk', 'forro', 'french', 'funk', 'garage', 'german', 'gospel', 'goth', 'grindcore', 'groove', 'grunge', 'guitar', 'happy', 'hard-rock', 'hardcore', 'hardstyle', 'heavy-metal', 'hip-hop', 'honky-tonk', 'house', 'idm', 'indian', 'indie-pop', 'indie', 'industrial', 'iranian', 'j-dance', 'j-idol', 'j-pop', 'j-rock', 'jazz', 'k-pop', 'kids', 'latin', 'latino', 'malay', 'mandopop', 'metal', 'metalcore', 'minimal-techno', 'mpb', 'new-age', 'opera', 'pagode', 'party', 'piano', 'pop-film', 'pop', 'power-pop', 'progressive-house', 'psych-rock', 'punk-rock', 'punk', 'r-n-b', 'reggae', 'reggaeton', 'rock-n-roll', 'rock', 'rockabilly', 'romance', 'sad', 'salsa', 'samba', 'sertanejo', 'show-tunes', 'singer-songwriter', 'ska', 'sleep', 'songwriter', 'soul', 'spanish', 'study', 'swedish', 'synth-pop', 'tango', 'techno', 'trance', 'trip-hop', 'turkish', 'world-music']\n",
      "number of instances with stories removed: 113280\n"
     ]
    }
   ],
   "source": [
    "spotify_table = MyPyTable()\n",
    "spotify_table.load_from_file(\"./input_data/spotify_tracks.csv\")\n",
    "print(\"Number of instances:\", len(spotify_table.data))\n",
    "\n",
    "rows_to_remove = []\n",
    "genre_row = spotify_table.get_column(\"track_genre\")\n",
    "genres = myutils.get_unique_values(genre_row)\n",
    "print(genres)\n",
    "for i in range(len(spotify_table.data)):\n",
    "    if spotify_table.data[i][spotify_table.column_names.index(\"speechiness\")] >= 0.85 and spotify_table.data[i][-1] in [\"kids\", \"children\", \"comedy\"]:\n",
    "        rows_to_remove.append(i)\n",
    "spotify_table.drop_rows(rows_to_remove)\n",
    "print(\"number of instances with stories removed:\", len(spotify_table.data))"
   ]
  },
  {
   "cell_type": "code",
   "execution_count": 45,
   "metadata": {},
   "outputs": [
    {
     "name": "stdout",
     "output_type": "stream",
     "text": [
      "Number of instances with duplicates removed: 89024\n"
     ]
    }
   ],
   "source": [
    "rows_to_remove = []\n",
    "track_ids = []\n",
    "for i in range(len(spotify_table.data)):\n",
    "    if spotify_table.data[i][1] not in track_ids:\n",
    "        track_ids.append(spotify_table.data[i][1])\n",
    "    else:\n",
    "        rows_to_remove.append(i)\n",
    "spotify_table.drop_rows(rows_to_remove)\n",
    "print(\"Number of instances with duplicates removed:\", len(spotify_table.data))"
   ]
  },
  {
   "cell_type": "code",
   "execution_count": 46,
   "metadata": {},
   "outputs": [
    {
     "name": "stdout",
     "output_type": "stream",
     "text": [
      "Final number of instances: 10000\n",
      "[[0.0, '5SuOikwiRyPMVoIQDJUgSV', 'Gen Hoshino', 'Comedy', 'Comedy', 73.0, 230666.0, 'False', 0.676, 0.461, 1.0, -6.746, 0.0, 0.143, 0.0322, 1.01e-06, 0.358, 0.715, 87.917, 4.0, 'acoustic'], [3.0, '6lfxq3CG4xtTiEg7opyCyx', 'Kina Grannis', 'Crazy Rich Asians (Original Motion Picture Soundtrack)', \"Can't Help Falling In Love\", 71.0, 201933.0, 'False', 0.266, 0.0596, 0.0, -18.515, 1.0, 0.0363, 0.905, 7.07e-05, 0.132, 0.143, 181.74, 3.0, 'acoustic'], [4.0, '5vjLSffimiIP26QG5WcN2K', 'Chord Overstreet', 'Hold On', 'Hold On', 82.0, 198853.0, 'False', 0.618, 0.443, 2.0, -9.681, 1.0, 0.0526, 0.469, 0.0, 0.0829, 0.167, 119.949, 4.0, 'acoustic'], [6.0, '6Vc5wAMmXdKIAM7WUoEb7N', 'A Great Big World;Christina Aguilera', 'Is There Anybody Out There?', 'Say Something', 74.0, 229400.0, 'False', 0.407, 0.147, 2.0, -8.822, 1.0, 0.0355, 0.857, 2.89e-06, 0.0913, 0.0765, 141.284, 3.0, 'acoustic'], [7.0, '1EzrEOXmMH3G43AXT1y7pA', 'Jason Mraz', 'We Sing. We Dance. We Steal Things.', \"I'm Yours\", 80.0, 242946.0, 'False', 0.703, 0.444, 11.0, -9.331, 1.0, 0.0417, 0.559, 0.0, 0.0973, 0.712, 150.96, 4.0, 'acoustic'], [8.0, '0IktbUcnAGrvD03AWnz3Q8', 'Jason Mraz;Colbie Caillat', 'We Sing. We Dance. We Steal Things.', 'Lucky', 74.0, 189613.0, 'False', 0.625, 0.414, 0.0, -8.7, 1.0, 0.0369, 0.294, 0.0, 0.151, 0.669, 130.088, 4.0, 'acoustic'], [10.0, '4mzP5mHkRvGxdhdGdAH7EJ', 'Zack Tabudlo', 'Episode', 'Give Me Your Forever', 74.0, 244800.0, 'False', 0.627, 0.363, 8.0, -8.127, 1.0, 0.0291, 0.279, 0.0, 0.0928, 0.301, 99.905, 4.0, 'acoustic'], [11.0, '5ivF4eQBqJiVL5IAE9jRyl', 'Jason Mraz', 'Love Is a Four Letter Word', \"I Won't Give Up\", 69.0, 240165.0, 'False', 0.483, 0.303, 4.0, -10.058, 1.0, 0.0429, 0.694, 0.0, 0.115, 0.139, 133.406, 3.0, 'acoustic'], [13.0, '0X9MxHR1rTkEHDjp95F2OO', 'Anna Hamilton', 'Bad Liar', 'Bad Liar', 62.0, 248448.0, 'False', 0.691, 0.234, 3.0, -6.441, 1.0, 0.0285, 0.777, 0.0, 0.12, 0.209, 87.103, 4.0, 'acoustic'], [18.0, '2qLMf6TuEC3ruGJg4SMMN6', 'Jason Mraz;Colbie Caillat', 'We Sing. We Dance. We Steal Things.', 'Lucky', 68.0, 189613.0, 'False', 0.625, 0.414, 0.0, -8.7, 1.0, 0.0369, 0.294, 0.0, 0.151, 0.669, 130.088, 4.0, 'acoustic']]\n"
     ]
    }
   ],
   "source": [
    "popularity_index_list = []\n",
    "popularity_column = spotify_table.get_column(\"popularity\")\n",
    "for i in range(len(popularity_column)):\n",
    "    popularity_index_list.append([popularity_column[i], i])\n",
    "popularity_index_list = sorted(popularity_index_list)\n",
    "\n",
    "rows_to_remove = [instance[1] for instance in popularity_index_list]\n",
    "rows_to_remove = rows_to_remove[:(len(popularity_index_list) - 10000)]\n",
    "spotify_table.drop_rows(rows_to_remove)\n",
    "print(\"Final number of instances:\", len(spotify_table.data))\n",
    "print(spotify_table.data[:10])"
   ]
  },
  {
   "cell_type": "code",
   "execution_count": 47,
   "metadata": {},
   "outputs": [],
   "source": [
    "spotify_table.save_to_file(\"input_data/cleaned_spotify_tracks.csv\")"
   ]
  },
  {
   "cell_type": "code",
   "execution_count": 48,
   "metadata": {},
   "outputs": [
    {
     "data": {
      "image/png": "[encoded data removed]",
      "text/plain": [
       "<Figure size 1440x360 with 1 Axes>"
      ]
     },
     "metadata": {
      "needs_background": "light"
     },
     "output_type": "display_data"
    }
   ],
   "source": [
    "importlib.reload(myutils)\n",
    "\n",
    "popularity_column = spotify_table.get_column(\"popularity\")\n",
    "unique_popularities = sorted(myutils.get_unique_values(popularity_column))\n",
    "frequencies = myutils.get_frequency_of_multiple_values(unique_popularities, popularity_column)\n",
    "plotutils.simple_bar_chart(unique_popularities, frequencies, [\"Popularity (out of 100)\", \"Number of tracks\", \"Popularity Distribution\"])"
   ]
  },
  {
   "cell_type": "code",
   "execution_count": 55,
   "metadata": {},
   "outputs": [
    {
     "ename": "TypeError",
     "evalue": "'<=' not supported between instances of 'float' and 'str'",
     "output_type": "error",
     "traceback": [
      "\u001b[0;31m---------------------------------------------------------------------------\u001b[0m",
      "\u001b[0;31mTypeError\u001b[0m                                 Traceback (most recent call last)",
      "\u001b[1;32m/home/CPSC322-Final-Project/EDA.ipynb Cell 7\u001b[0m in \u001b[0;36m<cell line: 4>\u001b[0;34m()\u001b[0m\n\u001b[1;32m      <a href='vscode-notebook-cell://attached-container%2B7b22636f6e7461696e65724e616d65223a222f616e61636f6e6461335f63707363333232227d/home/CPSC322-Final-Project/EDA.ipynb#X22sdnNjb2RlLXJlbW90ZQ%3D%3D?line=0'>1</a>\u001b[0m importlib\u001b[39m.\u001b[39mreload(myutils)\n\u001b[1;32m      <a href='vscode-notebook-cell://attached-container%2B7b22636f6e7461696e65724e616d65223a222f616e61636f6e6461335f63707363333232227d/home/CPSC322-Final-Project/EDA.ipynb#X22sdnNjb2RlLXJlbW90ZQ%3D%3D?line=2'>3</a>\u001b[0m cutoffs \u001b[39m=\u001b[39m myutils\u001b[39m.\u001b[39mcompute_equal_frequency_cutoffs(\u001b[39msorted\u001b[39m(popularity_column), \u001b[39m4\u001b[39m)\n\u001b[0;32m----> <a href='vscode-notebook-cell://attached-container%2B7b22636f6e7461696e65724e616d65223a222f616e61636f6e6461335f63707363333232227d/home/CPSC322-Final-Project/EDA.ipynb#X22sdnNjb2RlLXJlbW90ZQ%3D%3D?line=3'>4</a>\u001b[0m discretized_popularities \u001b[39m=\u001b[39m myutils\u001b[39m.\u001b[39;49mdiscretize_with_cut_offs(popularity_column, cutoffs)\n\u001b[1;32m      <a href='vscode-notebook-cell://attached-container%2B7b22636f6e7461696e65724e616d65223a222f616e61636f6e6461335f63707363333232227d/home/CPSC322-Final-Project/EDA.ipynb#X22sdnNjb2RlLXJlbW90ZQ%3D%3D?line=4'>5</a>\u001b[0m unique_discretized_popularities \u001b[39m=\u001b[39m \u001b[39msorted\u001b[39m(myutils\u001b[39m.\u001b[39mget_unique_values(discretized_popularities))\n\u001b[1;32m      <a href='vscode-notebook-cell://attached-container%2B7b22636f6e7461696e65724e616d65223a222f616e61636f6e6461335f63707363333232227d/home/CPSC322-Final-Project/EDA.ipynb#X22sdnNjb2RlLXJlbW90ZQ%3D%3D?line=5'>6</a>\u001b[0m frequencies_discretized_popularities \u001b[39m=\u001b[39m myutils\u001b[39m.\u001b[39mget_frequency_of_multiple_values(unique_discretized_popularities, discretized_popularities)\n",
      "File \u001b[0;32m/home/CPSC322-Final-Project/mysklearn/myutils.py:71\u001b[0m, in \u001b[0;36mdiscretize_with_cut_offs\u001b[0;34m(y_values, cut_offs)\u001b[0m\n\u001b[1;32m     69\u001b[0m \u001b[39mfor\u001b[39;00m cut_off_index \u001b[39min\u001b[39;00m \u001b[39mrange\u001b[39m(\u001b[39m1\u001b[39m, \u001b[39mlen\u001b[39m(cut_offs) \u001b[39m-\u001b[39m \u001b[39m1\u001b[39m):\n\u001b[1;32m     70\u001b[0m     \u001b[39mfor\u001b[39;00m y_index \u001b[39min\u001b[39;00m \u001b[39mrange\u001b[39m(num_values):\n\u001b[0;32m---> 71\u001b[0m         \u001b[39mif\u001b[39;00m cut_offs[cut_off_index \u001b[39m-\u001b[39m \u001b[39m1\u001b[39m] \u001b[39m<\u001b[39m\u001b[39m=\u001b[39m y_copy[y_index] \u001b[39m<\u001b[39m cut_offs[cut_off_index]:\n\u001b[1;32m     72\u001b[0m             y_copy[y_index] \u001b[39m=\u001b[39m subrange[i]\n\u001b[1;32m     73\u001b[0m     i \u001b[39m+\u001b[39m\u001b[39m=\u001b[39m \u001b[39m1\u001b[39m\n",
      "\u001b[0;31mTypeError\u001b[0m: '<=' not supported between instances of 'float' and 'str'"
     ]
    }
   ],
   "source": [
    "importlib.reload(myutils)\n",
    "\n",
    "cutoffs = myutils.compute_equal_frequency_cutoffs(sorted(popularity_column), 4)\n",
    "discretized_popularities = myutils.discretize_with_cut_offs(popularity_column, cutoffs)\n",
    "unique_discretized_popularities = sorted(myutils.get_unique_values(discretized_popularities))\n",
    "frequencies_discretized_popularities = myutils.get_frequency_of_multiple_values(unique_discretized_popularities, discretized_popularities)\n",
    "# unique_discretized_popularities = [\"least popular\", \"less popular\", \"popular\", \"very popular\"]\n",
    "plotutils.simple_bar_chart(unique_discretized_popularities, frequencies_discretized_popularities, [\"Popularity Levels\", \\\n",
    "    \"Number of tracks\", \"Distribution of Popularity Levels\"])"
   ]
  },
  {
   "cell_type": "code",
   "execution_count": null,
   "metadata": {},
   "outputs": [],
   "source": []
  }
 ],
 "metadata": {
  "kernelspec": {
   "display_name": "Python 3.9.12 ('base')",
   "language": "python",
   "name": "python3"
  },
  "language_info": {
   "codemirror_mode": {
    "name": "ipython",
    "version": 3
   },
   "file_extension": ".py",
   "mimetype": "text/x-python",
   "name": "python",
   "nbconvert_exporter": "python",
   "pygments_lexer": "ipython3",
   "version": "3.9.12"
  },
  "orig_nbformat": 4,
  "vscode": {
   "interpreter": {
    "hash": "d4d1e4263499bec80672ea0156c357c1ee493ec2b1c70f0acce89fc37c4a6abe"
   }
  }
 },
 "nbformat": 4,
 "nbformat_minor": 2
}
